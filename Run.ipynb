{
  "nbformat": 4,
  "nbformat_minor": 0,
  "metadata": {
    "colab": {
      "name": "Run.ipynb",
      "provenance": []
    },
    "kernelspec": {
      "name": "python3",
      "display_name": "Python 3"
    },
    "accelerator": "GPU"
  },
  "cells": [
    {
      "cell_type": "markdown",
      "metadata": {
        "id": "a4AmxKgQuADD"
      },
      "source": [
        "**Required Imports**"
      ]
    },
    {
      "cell_type": "code",
      "metadata": {
        "colab": {
          "base_uri": "https://localhost:8080/"
        },
        "id": "9GimOUSzt7dW",
        "outputId": "ce0cb874-d7eb-41f4-d3cd-5f6150a935bb"
      },
      "source": [
        "import pickle\n",
        "import string\n",
        "import nltk\n",
        "from nltk.corpus import stopwords\n",
        "nltk.download('punkt')\n",
        "nltk.download('stopwords')\n",
        "import numpy as np\n",
        "from keras.utils.np_utils import to_categorical  \n",
        "import tensorflow_hub as hub\n",
        "import tensorflow as tf\n",
        "from tensorflow.keras.layers import Dense, Input\n",
        "from tensorflow.keras.optimizers import Adam\n",
        "from tensorflow.keras.models import Model\n",
        "from sklearn.metrics import f1_score\n",
        "from sklearn.metrics import accuracy_score"
      ],
      "execution_count": null,
      "outputs": [
        {
          "output_type": "stream",
          "text": [
            "[nltk_data] Downloading package punkt to /root/nltk_data...\n",
            "[nltk_data]   Package punkt is already up-to-date!\n",
            "[nltk_data] Downloading package stopwords to /root/nltk_data...\n",
            "[nltk_data]   Package stopwords is already up-to-date!\n"
          ],
          "name": "stdout"
        }
      ]
    },
    {
      "cell_type": "markdown",
      "metadata": {
        "id": "0iWd_7ZkiAh7"
      },
      "source": [
        "**Loading the training and test data**"
      ]
    },
    {
      "cell_type": "code",
      "metadata": {
        "colab": {
          "base_uri": "https://localhost:8080/"
        },
        "id": "w8c_X7ddh8lK",
        "outputId": "070987fc-cb82-4dac-81d4-091aa9bbe1cc"
      },
      "source": [
        "from google.colab import drive\n",
        "drive.mount('/content/gdrive')"
      ],
      "execution_count": null,
      "outputs": [
        {
          "output_type": "stream",
          "text": [
            "Drive already mounted at /content/gdrive; to attempt to forcibly remount, call drive.mount(\"/content/gdrive\", force_remount=True).\n"
          ],
          "name": "stdout"
        }
      ]
    },
    {
      "cell_type": "code",
      "metadata": {
        "id": "TZq8TnaPuGrC"
      },
      "source": [
        "with open('/content/gdrive/My Drive/Dataset/iemocap/train/sentences.pkl', 'rb') as f:\n",
        "    data = pickle.load(f)\n",
        "with open('/content/gdrive/My Drive/Dataset/iemocap/train/labels.pkl', 'rb') as f:\n",
        "    labels = pickle.load(f)\n",
        "with open('/content/gdrive/My Drive/Dataset/iemocap/test/sentences.pkl', 'rb') as f:\n",
        "    test_data = pickle.load(f)\n",
        "with open('/content/gdrive/My Drive/Dataset/iemocap/test/labels.pkl', 'rb') as f:\n",
        "    test_labels = pickle.load(f)\n",
        "with open('/content/gdrive/MyDrive/Dataset/iemocap/train/conversation_length.pkl', 'rb') as f:\n",
        "    train_convlen = pickle.load(f)\n",
        "with open('/content/gdrive/MyDrive/Dataset/iemocap/test/conversation_length.pkl', 'rb') as f:\n",
        "    test_convlen = pickle.load(f)"
      ],
      "execution_count": null,
      "outputs": []
    },
    {
      "cell_type": "markdown",
      "metadata": {
        "id": "dUo4tPlsutap"
      },
      "source": [
        "**Preprocessing the Training Data**"
      ]
    },
    {
      "cell_type": "markdown",
      "metadata": {
        "id": "hm7Ht14Ywf0t"
      },
      "source": [
        "Function to arrange sentences and create an array of string of sentences"
      ]
    },
    {
      "cell_type": "code",
      "metadata": {
        "id": "gQUHCY-Ouwly"
      },
      "source": [
        "def arrange_sentences(data,data2,data3):\n",
        "  startlen=0\n",
        "  final_sentences=[]\n",
        "  final_labels=[]\n",
        "  for i in data:\n",
        "    odd_sentences=[]\n",
        "    odd_labels=[]\n",
        "    for j in range(0,i):\n",
        "      if j%2==0:\n",
        "        final_sentences.append(data2[startlen])\n",
        "        final_labels.append(data3[startlen])\n",
        "        startlen=startlen+1\n",
        "      else:\n",
        "        odd_sentences.append(data2[startlen])\n",
        "        odd_labels.append(data3[startlen])\n",
        "        startlen=startlen+1\n",
        "    for i in range(0,len(odd_sentences)):\n",
        "      final_sentences.append(odd_sentences[i])\n",
        "      final_labels.append(odd_labels[i])\n",
        "  return final_sentences,final_labels\n",
        "\n",
        "def preprocessing(data,labels):\n",
        "  processed_data=[]\n",
        "  processed_label=[]\n",
        "  for i in range(0,len(data)):\n",
        "    for j in range(0,len(data[i])):\n",
        "      intermediate_data=[]\n",
        "      intermediate_label=[]\n",
        "      for k in range(0,len(data[i][j])):\n",
        "        text=data[i][j][k]\n",
        "        if text != '<eos>'and text!='<pad>':\n",
        "          intermediate_data.append(text)\n",
        "      processed_data.append(intermediate_data)\n",
        "  for i in labels:\n",
        "    for j in i:\n",
        "      processed_label.append(j)\n",
        "  return processed_data,processed_label"
      ],
      "execution_count": null,
      "outputs": []
    },
    {
      "cell_type": "code",
      "metadata": {
        "id": "t1lHB1TgwbOx"
      },
      "source": [
        "processed_data,processed_label = preprocessing(data,labels)\n",
        "for i in range(0,len(processed_data)):\n",
        "  processed_data[i]= ' '.join(processed_data[i])\n",
        "processed_data,processed_label=arrange_sentences(train_convlen,processed_data,processed_label)"
      ],
      "execution_count": null,
      "outputs": []
    },
    {
      "cell_type": "markdown",
      "metadata": {
        "id": "bpfcbxFlxH2d"
      },
      "source": [
        "**Adding ConceptNet Features**"
      ]
    },
    {
      "cell_type": "code",
      "metadata": {
        "id": "9WQEY2YoxBXm"
      },
      "source": [
        "def ConceptNet_Sentences(data,labels):\n",
        "  conceptnet_data=[]\n",
        "  conceptnet_labels=[]\n",
        "  for sentences in range(0,len(data)):\n",
        "      current_sentence=data[sentences]\n",
        "      conceptnet_data.append(current_sentence)\n",
        "      conceptnet_labels.append(labels[sentences])\n",
        "      cleaned_sentences=data[sentences].translate(str.maketrans('', '', string.punctuation))\n",
        "      tokens_with_sw=nltk.word_tokenize(cleaned_sentences)\n",
        "      tokens= [word for word in tokens_with_sw if not word in stopwords.words()]\n",
        "      for i in range(1,3):\n",
        "        temp=current_sentence\n",
        "        for j in tokens:\n",
        "          try:\n",
        "            obj = requests.get('http://api.conceptnet.io/related/c/en/' + j + '?filter=/c/en').json()\n",
        "            response=obj['related'][i]['@id']\n",
        "          except Exception:\n",
        "            continue\n",
        "          response=re.sub(r'[^\\w]', ' ', response)\n",
        "          response=response[6:]\n",
        "          temp=temp.replace(j,response)\n",
        "        conceptnet_data.append(temp)\n",
        "        conceptnet_labels.append(labels[sentences])\n",
        "  return conceptnet_data,conceptnet_labels"
      ],
      "execution_count": null,
      "outputs": []
    },
    {
      "cell_type": "code",
      "metadata": {
        "id": "Sk80w4EoxvlN"
      },
      "source": [
        "processed_data,processed_label = ConceptNet_Sentences(processed_data,processed_label)"
      ],
      "execution_count": null,
      "outputs": []
    },
    {
      "cell_type": "markdown",
      "metadata": {
        "id": "RqZ1waq8zawi"
      },
      "source": [
        "**Adding Contextual Info from VADER**"
      ]
    },
    {
      "cell_type": "code",
      "metadata": {
        "id": "5q988xzhzgEc"
      },
      "source": [
        "!pip install vaderSentiment\n",
        "from vaderSentiment.vaderSentiment import SentimentIntensityAnalyzer\n",
        "analyzer = SentimentIntensityAnalyzer()"
      ],
      "execution_count": null,
      "outputs": []
    },
    {
      "cell_type": "markdown",
      "metadata": {
        "id": "O8qPx3PK0A-Y"
      },
      "source": [
        "Function to add VADER features"
      ]
    },
    {
      "cell_type": "code",
      "metadata": {
        "id": "KT33GtO1z-YY"
      },
      "source": [
        "def add_Vader_Features(sentences):\n",
        "  vader_features=[]\n",
        "  for sentence in sentences:\n",
        "    vs = analyzer.polarity_scores(sentence)\n",
        "    temp=[]\n",
        "    temp.append(sentence)\n",
        "    if vs['neg'] > 0.2:\n",
        "      temp.append('negative')\n",
        "    if vs['pos'] > 0.2:\n",
        "      temp.append('positive')\n",
        "    if vs['neu'] > 0.2:\n",
        "      temp.append('neutral')\n",
        "    if vs['compound'] > 0.2:\n",
        "      temp.append('compound')\n",
        "    temp=' '.join(temp)\n",
        "    vader_features.append(temp)\n",
        "  return vader_features"
      ],
      "execution_count": null,
      "outputs": []
    },
    {
      "cell_type": "code",
      "metadata": {
        "id": "B1yzm4s_0EOm"
      },
      "source": [
        "processed_data = add_Vader_Features(processed_data)"
      ],
      "execution_count": null,
      "outputs": []
    },
    {
      "cell_type": "markdown",
      "metadata": {
        "id": "LbS_2_gy0h6T"
      },
      "source": [
        "Converting data for making it possible to pass through the model"
      ]
    },
    {
      "cell_type": "code",
      "metadata": {
        "id": "AUafJeFC0hKN"
      },
      "source": [
        "processed_data=np.asarray(processed_data)\n",
        "Y=to_categorical(processed_label, num_classes=6)"
      ],
      "execution_count": null,
      "outputs": []
    },
    {
      "cell_type": "markdown",
      "metadata": {
        "id": "EVjJaH6z2dvd"
      },
      "source": [
        "**Preparing the Model**"
      ]
    },
    {
      "cell_type": "code",
      "metadata": {
        "id": "dGvV8w0A2gRy"
      },
      "source": [
        "!wget --quiet https://raw.githubusercontent.com/tensorflow/models/master/official/nlp/bert/tokenization.py\n",
        "!pip install sentencepiece\n",
        "import tokenization"
      ],
      "execution_count": null,
      "outputs": []
    },
    {
      "cell_type": "code",
      "metadata": {
        "id": "UUyuovC42jyY"
      },
      "source": [
        "def albert_encode(texts, tokenizer, max_len=512):\n",
        "    all_tokens = []\n",
        "    all_masks = []\n",
        "    all_segments = []\n",
        "    \n",
        "    for text in texts:\n",
        "        text = tokenizer.tokenize(text)\n",
        "            \n",
        "        text = text[:max_len-2]\n",
        "        input_sequence = [\"[CLS]\"] + text + [\"[SEP]\"]\n",
        "        pad_len = max_len - len(input_sequence)\n",
        "        \n",
        "        tokens = tokenizer.convert_tokens_to_ids(input_sequence)\n",
        "        tokens += [0] * pad_len\n",
        "        pad_masks = [1] * len(input_sequence) + [0] * pad_len\n",
        "        segment_ids = [0] * max_len\n",
        "        \n",
        "        all_tokens.append(tokens)\n",
        "        all_masks.append(pad_masks)\n",
        "        all_segments.append(segment_ids)\n",
        "    \n",
        "    return np.array(all_tokens), np.array(all_masks), np.array(all_segments)\n",
        "def build_model(bert_layer, max_len=512):\n",
        "    input_word_ids = Input(shape=(max_len,), dtype=tf.int32, name=\"input_word_ids\")\n",
        "    input_mask = Input(shape=(max_len,), dtype=tf.int32, name=\"input_mask\")\n",
        "    segment_ids = Input(shape=(max_len,), dtype=tf.int32, name=\"segment_ids\")\n",
        "\n",
        "    pooled_output, sequence_output = bert_layer([input_word_ids, input_mask, segment_ids])\n",
        "    clf_output = pooled_output\n",
        "    out = Dense(100, activation='relu')(clf_output)\n",
        "    out = Dense(100, activation='relu')(out)\n",
        "    out = Dense(6, activation='softmax')(out)\n",
        "    \n",
        "    model = Model(inputs=[input_word_ids, input_mask, segment_ids], outputs=out)\n",
        "    model.compile(Adam(lr=2e-6), loss='binary_crossentropy', metrics=['accuracy'])\n",
        "    \n",
        "    return model"
      ],
      "execution_count": null,
      "outputs": []
    },
    {
      "cell_type": "code",
      "metadata": {
        "id": "8gHsHOgC2pkW"
      },
      "source": [
        "module_url = \"https://tfhub.dev/tensorflow/albert_en_base/1\"\n",
        "albert_layer = hub.KerasLayer(module_url, trainable=True)"
      ],
      "execution_count": null,
      "outputs": []
    },
    {
      "cell_type": "code",
      "metadata": {
        "id": "4jjuLQww245l"
      },
      "source": [
        "sp_model_file = albert_layer.resolved_object.sp_model_file.asset_path.numpy()\n",
        "tokenizer = tokenization.FullSentencePieceTokenizer(sp_model_file)\n",
        "train_input = albert_encode(processed_data, tokenizer, max_len=160)\n",
        "train_labels = Y"
      ],
      "execution_count": null,
      "outputs": []
    },
    {
      "cell_type": "code",
      "metadata": {
        "id": "wlLE3f3g3Ac8"
      },
      "source": [
        "model = build_model(albert_layer, max_len=160)\n",
        "model.summary()"
      ],
      "execution_count": null,
      "outputs": []
    },
    {
      "cell_type": "markdown",
      "metadata": {
        "id": "oOMmKz3O3Z1-"
      },
      "source": [
        "**Training with data**"
      ]
    },
    {
      "cell_type": "code",
      "metadata": {
        "id": "6wQSlcpZ3ZP_"
      },
      "source": [
        "train_history = model.fit(\n",
        "    train_input, train_labels,\n",
        "    epochs=3,\n",
        "    batch_size=1\n",
        ")"
      ],
      "execution_count": null,
      "outputs": []
    },
    {
      "cell_type": "markdown",
      "metadata": {
        "id": "4jmxXJqt3f1g"
      },
      "source": [
        "**Preprocessing Test Data and passing through the model for accuracy**"
      ]
    },
    {
      "cell_type": "code",
      "metadata": {
        "id": "-KJmF2rL3pHm"
      },
      "source": [
        "test_processed_data,test_processed_label = preprocessing(test_data,test_labels)\n",
        "for i in range(0,len(test_processed_data)):\n",
        "  test_processed_data[i]=' '.join(test_processed_data[i])\n",
        "test_processed_data=np.asarray(test_processed_data)\n",
        "test_Y=to_categorical(test_processed_label, num_classes=6)"
      ],
      "execution_count": null,
      "outputs": []
    },
    {
      "cell_type": "code",
      "metadata": {
        "id": "5Z7t1ifS3_yX"
      },
      "source": [
        "test_input = albert_encode(test_processed_data, tokenizer, max_len=160)\n",
        "test_labels = test_Y"
      ],
      "execution_count": null,
      "outputs": []
    },
    {
      "cell_type": "code",
      "metadata": {
        "id": "5RMJ4VbY4BoP"
      },
      "source": [
        "y_pred=model.predict(test_input, batch_size=1)"
      ],
      "execution_count": null,
      "outputs": []
    },
    {
      "cell_type": "code",
      "metadata": {
        "id": "UBqE9q1f4ERN"
      },
      "source": [
        "y_pred1=np.argmax(y_pred,axis=1)\n",
        "test_processed_label=np.asarray(test_processed_label)\n",
        "print(\"Accuracy : \" + str(accuracy_score(test_processed_label, y_pred1)))\n",
        "print(\"Weighted F1-score : \" + str(f1_score(test_processed_label, y_pred1, average='weighted')))"
      ],
      "execution_count": null,
      "outputs": []
    }
  ]
}